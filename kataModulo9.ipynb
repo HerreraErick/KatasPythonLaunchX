{
 "cells": [
  {
   "cell_type": "markdown",
   "metadata": {},
   "source": [
    "## Ejercicio 1"
   ]
  },
  {
   "cell_type": "code",
   "execution_count": 3,
   "metadata": {},
   "outputs": [],
   "source": [
    "def reporte_combustible(tank1,tank2,tank3):\n",
    "    prom = (tank1+tank2+tank3)/3\n",
    "    return (f\"\"\" \n",
    "    Reporte de combustible\n",
    "    {'-'*40}\n",
    "    El tanque 1 tiene {tank1} combustible\n",
    "    El tanque 2 tiene {tank2} combustible\n",
    "    El tanque 3 tiene {tank3} combustible\n",
    "    El promedio de combustible es {prom}\n",
    "    \"\"\")"
   ]
  },
  {
   "cell_type": "code",
   "execution_count": 4,
   "metadata": {},
   "outputs": [
    {
     "name": "stdout",
     "output_type": "stream",
     "text": [
      " \n",
      "    Reporte de combustible\n",
      "    ----------------------------------------\n",
      "    El tanque 1 tiene 20 combustible\n",
      "    El tanque 2 tiene 50 combustible\n",
      "    El tanque 3 tiene 10 combustible\n",
      "    El promedio de combustible es 26.666666666666668\n",
      "    \n"
     ]
    }
   ],
   "source": [
    "print(reporte_combustible(20,50,10))"
   ]
  },
  {
   "cell_type": "code",
   "execution_count": 8,
   "metadata": {},
   "outputs": [
    {
     "data": {
      "text/plain": [
       "26.666666666666668"
      ]
     },
     "execution_count": 8,
     "metadata": {},
     "output_type": "execute_result"
    }
   ],
   "source": [
    "def prom_combustible(*args):\n",
    "    return sum(args)/len(args)\n",
    "\n",
    "prom_combustible(20,50,10)"
   ]
  },
  {
   "cell_type": "code",
   "execution_count": 9,
   "metadata": {},
   "outputs": [
    {
     "name": "stdout",
     "output_type": "stream",
     "text": [
      " \n",
      "    Reporte de combustible\n",
      "    ----------------------------------------\n",
      "    El tanque 1 tiene 20 combustible\n",
      "    El tanque 2 tiene 50 combustible\n",
      "    El tanque 3 tiene 10 combustible\n",
      "    El promedio de combustible es 26.666666666666668\n"
     ]
    }
   ],
   "source": [
    "def reporte_combustible(tank1,tank2,tank3):\n",
    "    return (f\"\"\" \n",
    "    Reporte de combustible\n",
    "    {'-'*40}\n",
    "    El tanque 1 tiene {tank1} combustible\n",
    "    El tanque 2 tiene {tank2} combustible\n",
    "    El tanque 3 tiene {tank3} combustible\n",
    "    El promedio de combustible es {prom_combustible(tank1,tank2,tank3)}\"\"\")\n",
    "\n",
    "print(reporte_combustible(20,50,10))"
   ]
  },
  {
   "cell_type": "markdown",
   "metadata": {},
   "source": [
    "## Ejercicio 2"
   ]
  },
  {
   "cell_type": "code",
   "execution_count": 12,
   "metadata": {},
   "outputs": [
    {
     "name": "stdout",
     "output_type": "stream",
     "text": [
      "\n",
      "    La mision a Jupiter\n",
      "    tiene un total de viaje de 70 minutos\n",
      "    con un total de 1500 de combustible faltante\n"
     ]
    }
   ],
   "source": [
    "def informe_mision1(prelanzamiento,tiempo,destino,externo,interno):\n",
    "    return f\"\"\"\n",
    "    La mision a {destino}\n",
    "    tiene un total de viaje de {prelanzamiento + tiempo} minutos\n",
    "    con un total de {externo + interno} de combustible faltante\"\"\"\n",
    "\n",
    "\n",
    "print(informe_mision1(10, 60, \"Jupiter\", 500, 1000))"
   ]
  },
  {
   "cell_type": "code",
   "execution_count": 13,
   "metadata": {},
   "outputs": [
    {
     "name": "stdout",
     "output_type": "stream",
     "text": [
      "\n",
      "    La mision a Jupiter\n",
      "    tiene un total de viaje de 60 minutos\n",
      "    con un total de 1500 de combustible faltante\n"
     ]
    }
   ],
   "source": [
    "def informe_mision2(destino, *minutos, **combustible):\n",
    "    return f\"\"\"\n",
    "    La mision a {destino}\n",
    "    tiene un total de viaje de {sum(minutos)} minutos\n",
    "    con un total de {sum(combustible.values())} de combustible faltante\"\"\"\n",
    "\n",
    "\n",
    "print(informe_mision2(\"Jupiter\", 10, 20, 30, externo=500, interno=1000))\n",
    "    "
   ]
  },
  {
   "cell_type": "code",
   "execution_count": 20,
   "metadata": {},
   "outputs": [
    {
     "name": "stdout",
     "output_type": "stream",
     "text": [
      "\n",
      "    La mision a Jupiter\n",
      "    tiene un total de viaje de 60 minutos\n",
      "    con un total de 1500 de combustible faltante\n",
      "    El Tanque externo tiene 500 combustible faltante\n",
      "El Tanque interno tiene 1000 combustible faltante\n",
      "\n"
     ]
    }
   ],
   "source": [
    "def informe_mision3(destino, *minutos, **combustible):\n",
    "    reporte = f\"\"\"\n",
    "    La mision a {destino}\n",
    "    tiene un total de viaje de {sum(minutos)} minutos\n",
    "    con un total de {sum(combustible.values())} de combustible faltante\n",
    "    \"\"\"\n",
    "\n",
    "    for tanque, comb in combustible.items():\n",
    "        reporte += f\"\"\"El Tanque {tanque} tiene {comb} combustible faltante\\n\"\"\"\n",
    "    \n",
    "    return reporte\n",
    "\n",
    "\n",
    "print(informe_mision3(\"Jupiter\", 10, 20, 30, externo=500, interno=1000))"
   ]
  }
 ],
 "metadata": {
  "interpreter": {
   "hash": "818fd332fc66df60f2dcf726f70906590ff1a396d4347d2966199a6dcd0defbb"
  },
  "kernelspec": {
   "display_name": "Python 3.10.2 64-bit",
   "language": "python",
   "name": "python3"
  },
  "language_info": {
   "codemirror_mode": {
    "name": "ipython",
    "version": 3
   },
   "file_extension": ".py",
   "mimetype": "text/x-python",
   "name": "python",
   "nbconvert_exporter": "python",
   "pygments_lexer": "ipython3",
   "version": "3.10.2"
  },
  "orig_nbformat": 4
 },
 "nbformat": 4,
 "nbformat_minor": 2
}
