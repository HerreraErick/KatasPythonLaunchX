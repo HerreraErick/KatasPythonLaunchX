{
 "cells": [
  {
   "cell_type": "markdown",
   "metadata": {},
   "source": [
    "## Ejercicio 1"
   ]
  },
  {
   "cell_type": "code",
   "execution_count": 1,
   "metadata": {},
   "outputs": [
    {
     "name": "stdout",
     "output_type": "stream",
     "text": [
      "Advertencia\n"
     ]
    }
   ],
   "source": [
    "asteroide = 49\n",
    "if asteroide > 25:\n",
    "    print(\"Advertencia se acerca un asteroide\")\n",
    "else:\n",
    "    print(\"Tierra fuera de peligro\")"
   ]
  },
  {
   "cell_type": "code",
   "execution_count": 3,
   "metadata": {},
   "outputs": [
    {
     "name": "stdout",
     "output_type": "stream",
     "text": [
      "Advertencia se acerca un asteroide\n"
     ]
    }
   ],
   "source": [
    "asteroide = 19\n",
    "if asteroide > 20:\n",
    "    print(\"Mira el rayo de luz en el cielo\")\n",
    "elif asteroide == 20:\n",
    "    print(\"Mira el rayo de luz en el cielo\")\n",
    "else:\n",
    "    print(\"No hay nada en el cielo\")"
   ]
  },
  {
   "cell_type": "markdown",
   "metadata": {},
   "source": [
    "## Ejercicio 2"
   ]
  },
  {
   "cell_type": "code",
   "execution_count": 18,
   "metadata": {},
   "outputs": [
    {
     "name": "stdout",
     "output_type": "stream",
     "text": [
      "Alerta se acerca un asteroide\n"
     ]
    }
   ],
   "source": [
    "metrosAsteroide = input(\"De cuanto es el tamaño del asteroie\")\n",
    "velocidadAsteroide = input(\"Cual es la velocidad del asteroide\")\n",
    "if int(metrosAsteroide) < 25 and int(velocidadAsteroide) < 25:\n",
    "    if int(velocidadAsteroide) >= 20:\n",
    "        print(\"Mira el rayo de luz en el cielo\")\n",
    "    else:\n",
    "        print(\"No hay nada en el cielo\")\n",
    "elif int(metrosAsteroide) >= 25 or int(velocidadAsteroide) > 25:\n",
    "    print(\"Alerta se acerca un asteroide\")\n",
    "else:\n",
    "    print(\"Tierra fuera de peligro\")"
   ]
  }
 ],
 "metadata": {
  "interpreter": {
   "hash": "818fd332fc66df60f2dcf726f70906590ff1a396d4347d2966199a6dcd0defbb"
  },
  "kernelspec": {
   "display_name": "Python 3.10.2 64-bit",
   "language": "python",
   "name": "python3"
  },
  "language_info": {
   "codemirror_mode": {
    "name": "ipython",
    "version": 3
   },
   "file_extension": ".py",
   "mimetype": "text/x-python",
   "name": "python",
   "nbconvert_exporter": "python",
   "pygments_lexer": "ipython3",
   "version": "3.10.2"
  },
  "orig_nbformat": 4
 },
 "nbformat": 4,
 "nbformat_minor": 2
}
