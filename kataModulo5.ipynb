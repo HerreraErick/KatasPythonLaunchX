{
 "cells": [
  {
   "cell_type": "markdown",
   "metadata": {},
   "source": [
    "## Ejercicio 1"
   ]
  },
  {
   "cell_type": "code",
   "execution_count": 4,
   "metadata": {},
   "outputs": [
    {
     "name": "stdout",
     "output_type": "stream",
     "text": [
      "628949330 km\n",
      "390577534 m\n"
     ]
    }
   ],
   "source": [
    "\n",
    "tierra = 149597870\n",
    "jupiter = 778547200\n",
    "distancia = tierra - jupiter\n",
    "millas = distancia * 0.621\n",
    "print(abs(distancia),\"km\")\n",
    "print(abs(round(millas)),\"m\")\n"
   ]
  },
  {
   "cell_type": "markdown",
   "metadata": {},
   "source": [
    "## Ejercicio 2"
   ]
  },
  {
   "cell_type": "code",
   "execution_count": 6,
   "metadata": {},
   "outputs": [
    {
     "name": "stdout",
     "output_type": "stream",
     "text": [
      "50300000 km\n",
      "31236300.0 m\n"
     ]
    }
   ],
   "source": [
    "planeta1 = input(\"Cual es la ditancia del planeta 1\")\n",
    "planeta2 = input(\"Cual es la distancia del planeta 2\")\n",
    "\n",
    "planeta1 = int(planeta1)\n",
    "planeta2 = int(planeta2)\n",
    "\n",
    "distancia2 = planeta1 - planeta2\n",
    "millas2 = distancia2 * 0.621\n",
    "print(abs(distancia2),'km')\n",
    "print(abs(millas2),'m')\n"
   ]
  }
 ],
 "metadata": {
  "interpreter": {
   "hash": "818fd332fc66df60f2dcf726f70906590ff1a396d4347d2966199a6dcd0defbb"
  },
  "kernelspec": {
   "display_name": "Python 3.10.2 64-bit",
   "language": "python",
   "name": "python3"
  },
  "language_info": {
   "codemirror_mode": {
    "name": "ipython",
    "version": 3
   },
   "file_extension": ".py",
   "mimetype": "text/x-python",
   "name": "python",
   "nbconvert_exporter": "python",
   "pygments_lexer": "ipython3",
   "version": "3.10.2"
  },
  "orig_nbformat": 4
 },
 "nbformat": 4,
 "nbformat_minor": 2
}
